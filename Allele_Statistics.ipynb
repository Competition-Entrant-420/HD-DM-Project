{
 "cells": [
  {
   "cell_type": "markdown",
   "metadata": {},
   "source": [
    "# STATISTICS FOR MANHATTAN PLOTS\n",
    "\n"
   ]
  },
  {
   "cell_type": "markdown",
   "metadata": {},
   "source": [
    "#### Collecting files from dataset\n",
    "\n",
    "This shows how to retrieve the files from the Labadorf data set. The same computation is done on the other two datasets, by importing those files. "
   ]
  },
  {
   "cell_type": "code",
   "execution_count": null,
   "metadata": {
    "collapsed": true
   },
   "outputs": [],
   "source": [
    "from glob import glob"
   ]
  },
  {
   "cell_type": "code",
   "execution_count": null,
   "metadata": {
    "collapsed": true
   },
   "outputs": [],
   "source": [
    "labadorf_hd_samples = glob(\"SNPS/Labadorf/HD/SRR1747*/filtered_snps_final.vcf\")"
   ]
  },
  {
   "cell_type": "code",
   "execution_count": null,
   "metadata": {},
   "outputs": [],
   "source": [
    "labadorf_hd_samples"
   ]
  },
  {
   "cell_type": "markdown",
   "metadata": {},
   "source": [
    "### Descriptions of allele statistics\n",
    "\n",
    "For every SNP position, each sample containing that position has a corresponding genotype. \n",
    "- '1/1' corresponds to homozygous alternate (AA)\n",
    "- '0/1' corresponds to heterozygous (RA)\n",
    "- '0/0' corresponds to homozygous reference (RR)\n",
    "\n",
    "For every SNP position, we need a count of the R alleles and a count for the A alleles. We will do this for the WT and HD samples, and ultimately create a table as follows: \n",
    "\n",
    "|SNP Position | A alleles in HD | R alleles in HD | A alleles in WT | R alleles in WT |\n",
    "|--- | --- | --- | --- | ---- |\n",
    "| 12356 | 24 | 5 | 7 | 12 |\n",
    "\n",
    "\n"
   ]
  },
  {
   "cell_type": "code",
   "execution_count": null,
   "metadata": {
    "collapsed": true
   },
   "outputs": [],
   "source": [
    "upRegGenes = [(\"Adcy8\", 8, 130780301, 131042426), (\"Adam23\", 2, 206443539, 206621130), \n",
    "         (\"Aebp1\", 7, 44104361, 44114562), (\"Aldh3a1\", 17, 19737984, 19748943), \n",
    "         (\"Arg1\", 6, 131573144, 131584332), (\"Bcl3\", 19, 44747705, 44760044),\n",
    "         (\"Cd83\", 6, 14117256, 14136918), (\"Cmpk2\", 2, 6840570, 6866635), \n",
    "         (\"Cd209\", 19, 7739994, 7747564), (\"Adgrg2\", \"X\", 18989309, 19122637),\n",
    "         (\"Ifi16\", 1, 158999968, 159055155), (\"Rnf130\", 5, 179911651, 180072118),\n",
    "         (\"Oas1\", 12, 112906777, 112933222),\n",
    "         (\"Elf3\", 1, 202007945, 202017188), (\"Elmo1\", 7, 36854361, 37449249), \n",
    "         (\"Entpd2\", 9, 137048098, 137054045), (\"Fam180a\", 7, 135728348, 135748846), \n",
    "         (\"Fetub\", 3, 186635969, 186653141), (\"Fgf5\", 4, 80266599, 80336680), \n",
    "         (\"Gldc\", 9, 6532464, 6645783), (\"Gpm6a\", 4, 175632934, 176002664), \n",
    "         (\"Gpx7\", 1, 52602372, 52609051), (\"Hook1\", 1, 59814786, 59876378), \n",
    "         (\"Igf1\", 12, 102395867, 102480645), (\"Ina\", 10, 103277163, 103290351), \n",
    "         (\"Irgm\", 5, 150846523, 150900736), (\"Lactb2\", 8, 70635318, 70669174), \n",
    "         (\"Ly6e\", 8, 143017982, 143023832), (\"Mgat3\", 22, 39457344, 39492194), \n",
    "         (\"Msln\", 16, 760762, 768865,), (\"Neto2\", 16, 47077703, 47143997), \n",
    "         (\"Pah\", 12, 102836885, 102958410), (\"Prr16\", 5, 120464278, 120687332), \n",
    "         (\"Rgs2\", 1, 192809039, 192812283), (\"S100a16\", 1, 153606886, 153613145), \n",
    "         (\"Serpinb8\", 18, 63969925, 64019779), (\"Sh3kbp1\", \"X\", 19533975, 19887601),\n",
    "         (\"Sh3tc1\", 4, 8182072, 8241803), (\"Slc51a\", 3, 196211487, 196243178), \n",
    "         (\"Slpi\", 20, 45252239, 45254564), (\"Sorcs1\", 10, 106573663, 107164534), \n",
    "         (\"Stap2\", 19, 4324043, 4342786), (\"Tbx18\", 6, 84687351, 84764519), \n",
    "         (\"Tspan8\", 12, 71125085, 71441898), (\"Vnn1\", 6, 132681590, 132714049), \n",
    "         (\"Xdh\", 2, 31334321, 31414715)]\n",
    "\n",
    "         "
   ]
  },
  {
   "cell_type": "markdown",
   "metadata": {},
   "source": [
    "We will create a dictionary whose keys are chromosomes and whose values are lists of genes. Each gene is identified by the following: (start position, end position, gene name). The lists of genes are sorted in ascending order. "
   ]
  },
  {
   "cell_type": "code",
   "execution_count": null,
   "metadata": {
    "collapsed": true
   },
   "outputs": [],
   "source": [
    "upRegDict = dict()\n",
    "for gene in upRegGenes:\n",
    "    info = (gene[2], gene[3], gene[0])\n",
    "    entry = upRegDict.get(str(gene[1]),[])\n",
    "    entry.append(info)\n",
    "    upRegDict[str(gene[1])] = entry\n",
    "    "
   ]
  },
  {
   "cell_type": "code",
   "execution_count": null,
   "metadata": {
    "scrolled": true
   },
   "outputs": [],
   "source": [
    "upRegDict"
   ]
  },
  {
   "cell_type": "code",
   "execution_count": null,
   "metadata": {
    "collapsed": true
   },
   "outputs": [],
   "source": [
    "for chromosome in upRegDict: \n",
    "    upRegDict[chromosome] = sorted(upRegDict[chromosome])"
   ]
  },
  {
   "cell_type": "code",
   "execution_count": null,
   "metadata": {},
   "outputs": [],
   "source": [
    "upRegDict"
   ]
  },
  {
   "cell_type": "code",
   "execution_count": null,
   "metadata": {
    "collapsed": true
   },
   "outputs": [],
   "source": [
    "downRegGenes = [(\"Abcb4\", 7, 87401697, 87480435), (\"Ankh\", 5, 14704804, 14871778), \n",
    "                (\"Atp10a\", 15, 25677273, 25865172), (\"Avpr1a\", 12, 63142759, 63150942), \n",
    "                (\"Bgn\", \"X\", 153494939, 153509554), (\"Bnc2\", 9, 16409503, 16870843),\n",
    "                (\"Bst1\", 4, 15702950, 15738313), (\"C1qtnf2\", 5, 160347751, 160370641), \n",
    "                (\"Cacna2d1\", 7, 81946444, 82443798), (\"Cadm1\", 11, 115169218, 115504957),\n",
    "                (\"Cd48\", 1, 160678746, 160711851), (\"Ctnnd2\", 5, 10971840, 11904043),\n",
    "                (\"Ebf1\", 5, 158695916, 159099761), (\"Enpep\", 4, 110365733, 110565285), \n",
    "                (\"Epb41l3\", 18, 5392381, 5630700), (\"Epha7\", 6, 93240020, 93419547),\n",
    "                (\"Etv1\", 7, 13891228, 13991425), (\"F2rl2\", 5, 76615482, 76623434), \n",
    "                (\"Fgfr1\", 8, 38411138, 38468834), (\"Flt1\", 13, 28300344, 28495145),\n",
    "                (\"Fut9\", 6, 96015984, 96215612), (\"Gmpr\", 6, 16238580, 16295549), \n",
    "                (\"Gria3\", \"X\", 123184153, 123490915), (\"Guf1\", 4, 44678427, 44700926), \n",
    "                (\"Isoc1\", 5, 129094751, 129114028), (\"Itga4\", 2, 181457202, 181536187), \n",
    "                (\"Lpl\", 8, 19901717, 19967258), (\"Mettl5\", 2, 169810081, 169824931),\n",
    "                (\"Mmp10\", 11, 102770503, 102780628), (\"Pax6\", 11, 31784779, 31818062), \n",
    "                (\"Pcdh18\", 4, 137518918, 137532494), (\"Peli2\", 14, 56117813, 56301526), \n",
    "                (\"Pln\", 6, 118548298, 118560730), (\"Prickle2\", 3, 64092242, 64445476), \n",
    "                (\"Prrx1\", 1, 170662728, 170739419), (\"Rhoj\", 14, 63204114, 63293219),\n",
    "                (\"Sall1\", 16, 51135975, 51151367), (\"Sat2\", 17, 7626234, 7627876), \n",
    "                (\"Serpine2\", 2, 223975112, 224039319), (\"Srpx2\", \"X\", 100644166, 100675788), \n",
    "                (\"Thy1\", 11, 119417378, 119424985), (\"Tmem30b\", 14, 61277370, 61281840), \n",
    "                (\"Tmem47\", \"X\", 34627064, 34657288), (\"Tnnc1\", 3, 52451102, 52454070), \n",
    "                (\"Tram1l1\", 4, 117083554, 117085576), (\"Trpc4\", 13, 37636636, 37870425), \n",
    "                (\"Vldlr\", 9, 2621834, 2660053)]\n",
    "                "
   ]
  },
  {
   "cell_type": "code",
   "execution_count": null,
   "metadata": {
    "collapsed": true
   },
   "outputs": [],
   "source": [
    "downRegDict = dict()\n",
    "for gene in downRegGenes:\n",
    "    info = (gene[2], gene[3], gene[0])\n",
    "    entry = downRegDict.get(str(gene[1]),[])\n",
    "    entry.append(info)\n",
    "    downRegDict[str(gene[1])] = entry\n",
    "    "
   ]
  },
  {
   "cell_type": "code",
   "execution_count": null,
   "metadata": {
    "collapsed": true
   },
   "outputs": [],
   "source": [
    "for chromosome in downRegDict: \n",
    "    downRegDict[chromosome] = sorted(downRegDict[chromosome])"
   ]
  },
  {
   "cell_type": "code",
   "execution_count": null,
   "metadata": {},
   "outputs": [],
   "source": [
    "downRegDict"
   ]
  },
  {
   "cell_type": "code",
   "execution_count": null,
   "metadata": {
    "collapsed": true
   },
   "outputs": [],
   "source": [
    "glucoseGenes = [(\"Aldoc\", 17, 28573115, 28577264), (\"Bpgm\", 7, 134646808, 134679813),\n",
    "                (\"Eno3\", 17, 4948092, 4957131), (\"Galm\", 2, 38665910, 38741237), \n",
    "                (\"Hk2\", 2, 72833981, 74893359), (\"Pgm1\", 1, 63593276, 63660245), \n",
    "                (\"Tpi1\", 12, 6867119, 6870948), (\"Cs\", 12, 56271699, 56300392), \n",
    "                (\"Dld\", 7, 107890970, 107931730), (\"Fh\", 1, 241497603, 241519761), \n",
    "                (\"Idh1\", 2, 208236227, 208266074), (\"Idh3B\", 20, 2658395, 2664219), \n",
    "                (\"Mdh2\", 7, 76048051, 76067508), (\"Pc\", 11, 66848233, 66958376), \n",
    "                (\"Pdha1\", \"X\", 19343893, 19361705), (\"Sdhb\", 1, 17018722, 17054170), \n",
    "                (\"Sdhc\", 1, 161314257, 161375340), (\"Suclg1\", 2, 84423523, 84460045), \n",
    "                (\"Prps2\", \"X\", 12791355, 12824222), (\"Rpia\", 2, 88691644, 88750935), \n",
    "                (\"Taldo1\", 11, 747329, 765024), (\"Slc2a1\", 1, 42925375, 42959173)]\n",
    "                "
   ]
  },
  {
   "cell_type": "code",
   "execution_count": null,
   "metadata": {
    "collapsed": true
   },
   "outputs": [],
   "source": [
    "glucDict = dict()\n",
    "for gene in glucoseGenes:\n",
    "    info = (gene[2], gene[3], gene[0])\n",
    "    entry = glucDict.get(str(gene[1]),[])\n",
    "    entry.append(info)\n",
    "    glucDict[str(gene[1])] = entry\n",
    "    "
   ]
  },
  {
   "cell_type": "code",
   "execution_count": null,
   "metadata": {
    "collapsed": true
   },
   "outputs": [],
   "source": [
    "for chromosome in glucDict: \n",
    "    glucDict[chromosome] = sorted(glucDict[chromosome])"
   ]
  },
  {
   "cell_type": "code",
   "execution_count": null,
   "metadata": {},
   "outputs": [],
   "source": [
    "glucDict"
   ]
  },
  {
   "cell_type": "markdown",
   "metadata": {},
   "source": [
    "### Contingency Table Creation\n",
    "\n",
    "We will create a dictionary in which the key is the SNP position and the value is an array, which is a two-by-two table as follows:\n",
    "\n",
    "    [[HD ref, HD alt],[WT ref, WT alt]]"
   ]
  },
  {
   "cell_type": "code",
   "execution_count": null,
   "metadata": {
    "collapsed": true
   },
   "outputs": [],
   "source": [
    "def myArray(): \n",
    "    return [[0,0],[0,0]]\n"
   ]
  },
  {
   "cell_type": "code",
   "execution_count": null,
   "metadata": {},
   "outputs": [],
   "source": [
    "myArray()"
   ]
  },
  {
   "cell_type": "code",
   "execution_count": null,
   "metadata": {
    "collapsed": true
   },
   "outputs": [],
   "source": [
    "snpAllelesGluc = dict()"
   ]
  },
  {
   "cell_type": "code",
   "execution_count": null,
   "metadata": {
    "collapsed": true
   },
   "outputs": [],
   "source": [
    "for sample in labadorf_hd_samples:\n",
    "    for line in open(sample): \n",
    "        if line.startswith('chr'):\n",
    "            splitLine = line.split('\\t')\n",
    "            chrNum = splitLine[0][3:]\n",
    "            position = int(splitLine[1])\n",
    "            genotype = str(splitLine[9][:3])\n",
    "            if chrNum in glucDict:\n",
    "                for gene in glucDict[chrNum]:\n",
    "                    if gene[0] <= position <= gene[1]:\n",
    "                        x = snpAllelesGluc.get(position, myArray())\n",
    "                        if genotype == '1/1':\n",
    "                            x[0][1] +=2\n",
    "                        elif genotype == '0/1':\n",
    "                            x[0][1] +=1\n",
    "                            x[0][0] +=1\n",
    "                        elif genotype == '0/0':\n",
    "                            x[0][0] +=2\n",
    "                        snpAllelesGluc[position] = x\n",
    "                      "
   ]
  },
  {
   "cell_type": "code",
   "execution_count": null,
   "metadata": {
    "collapsed": true
   },
   "outputs": [],
   "source": [
    "for sample in labadorf_wt_samples:\n",
    "    for line in open(sample): \n",
    "        if line.startswith('chr'):\n",
    "            splitLine = line.split('\\t')\n",
    "            chrNum = splitLine[0][3:]\n",
    "            position = int(splitLine[1])\n",
    "            genotype = str(splitLine[9][:3])\n",
    "            if chrNum in glucDict:\n",
    "                for gene in glucDict[chrNum]:\n",
    "                    if gene[0] <= position <= gene[1]:\n",
    "                        x = snpAllelesGluc.get(position, myArray())\n",
    "                        if genotype == '1/1':\n",
    "                            x[1][1] +=2\n",
    "                        elif genotype == '0/1':\n",
    "                            x[1][1] +=1\n",
    "                            x[1][0] +=1\n",
    "                        elif genotype == '0/0':\n",
    "                            x[1][0] +=2\n",
    "                        snpAllelesGluc[position] = x\n",
    "                      "
   ]
  },
  {
   "cell_type": "code",
   "execution_count": null,
   "metadata": {
    "scrolled": false
   },
   "outputs": [],
   "source": [
    "snpAllelesGluc"
   ]
  },
  {
   "cell_type": "code",
   "execution_count": null,
   "metadata": {
    "collapsed": true
   },
   "outputs": [],
   "source": [
    "from scipy.stats import fisher_exact"
   ]
  },
  {
   "cell_type": "code",
   "execution_count": null,
   "metadata": {
    "collapsed": true
   },
   "outputs": [],
   "source": [
    "from scipy.stats import chi2_contingency"
   ]
  },
  {
   "cell_type": "code",
   "execution_count": null,
   "metadata": {
    "collapsed": true
   },
   "outputs": [],
   "source": [
    "fisherOutput = dict()"
   ]
  },
  {
   "cell_type": "code",
   "execution_count": null,
   "metadata": {
    "collapsed": true
   },
   "outputs": [],
   "source": [
    "for x in snpAllelesGluc:\n",
    "    odds_ratio, p_value = fisher_exact(snpAllelesGluc[x])\n",
    "    fisherOutput[x] = [odds_ratio, p_value]"
   ]
  },
  {
   "cell_type": "code",
   "execution_count": null,
   "metadata": {},
   "outputs": [],
   "source": [
    "fisherOutput"
   ]
  },
  {
   "cell_type": "markdown",
   "metadata": {},
   "source": [
    "#### Testing dictionaries with Fisher's test output"
   ]
  },
  {
   "cell_type": "code",
   "execution_count": null,
   "metadata": {},
   "outputs": [],
   "source": [
    "for y in fisherOutput:\n",
    "    if fisherOutput[y][1] <= 0.1:\n",
    "        print (y) "
   ]
  },
  {
   "cell_type": "code",
   "execution_count": null,
   "metadata": {},
   "outputs": [],
   "source": [
    "snpAllelesDown[5630531]"
   ]
  },
  {
   "cell_type": "markdown",
   "metadata": {},
   "source": [
    "#### Printing significant p-values from output"
   ]
  },
  {
   "cell_type": "code",
   "execution_count": null,
   "metadata": {},
   "outputs": [],
   "source": [
    "for z in fisherOutput: \n",
    "    if fisherOutput[z][1] < 0.05: \n",
    "        print (z)"
   ]
  },
  {
   "cell_type": "code",
   "execution_count": null,
   "metadata": {
    "collapsed": true
   },
   "outputs": [],
   "source": []
  }
 ],
 "metadata": {
  "kernelspec": {
   "display_name": "Python 3",
   "language": "python",
   "name": "python3"
  },
  "language_info": {
   "codemirror_mode": {
    "name": "ipython",
    "version": 3
   },
   "file_extension": ".py",
   "mimetype": "text/x-python",
   "name": "python",
   "nbconvert_exporter": "python",
   "pygments_lexer": "ipython3",
   "version": "3.6.1"
  }
 },
 "nbformat": 4,
 "nbformat_minor": 2
}
